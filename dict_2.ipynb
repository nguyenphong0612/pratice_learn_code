{
 "cells": [
  {
   "cell_type": "code",
   "execution_count": 25,
   "metadata": {},
   "outputs": [],
   "source": [
    "text = \"tôi đang học python fundamental hôm nay sẽ ngày bế giảng khóa học python cơ bản\"\n"
   ]
  },
  {
   "cell_type": "code",
   "execution_count": 35,
   "metadata": {},
   "outputs": [],
   "source": [
    "def count_word(text_str, word):\n",
    "    w_n = {}\n",
    "    list_text = text_str.split(\" \")\n",
    "    for s in list_text:\n",
    "        w_n[s] = list_text.count(s)\n",
    "    if word in w_n:\n",
    "        print(f\"number of {word} is {w_n[word]}\")\n",
    "    else:\n",
    "        print(\"not found {word}\")\n",
    "    #return w_n"
   ]
  },
  {
   "cell_type": "code",
   "execution_count": 36,
   "metadata": {},
   "outputs": [
    {
     "name": "stdout",
     "output_type": "stream",
     "text": [
      "number of fundamental is 1\n"
     ]
    }
   ],
   "source": [
    "count_word(text, \"fundamental\")"
   ]
  },
  {
   "cell_type": "code",
   "execution_count": null,
   "metadata": {},
   "outputs": [],
   "source": [
    "word = input(\"input word:\")"
   ]
  }
 ],
 "metadata": {
  "kernelspec": {
   "display_name": "Python 3",
   "language": "python",
   "name": "python3"
  },
  "language_info": {
   "codemirror_mode": {
    "name": "ipython",
    "version": 3
   },
   "file_extension": ".py",
   "mimetype": "text/x-python",
   "name": "python",
   "nbconvert_exporter": "python",
   "pygments_lexer": "ipython3",
   "version": "3.12.2"
  }
 },
 "nbformat": 4,
 "nbformat_minor": 2
}
