{
 "cells": [
  {
   "cell_type": "code",
   "execution_count": 30,
   "metadata": {},
   "outputs": [],
   "source": [
    "from tkinter import *\n",
    "from tkinter import messagebox\n",
    "# tạo cửa sổ chương trình\n",
    "window = Tk()\n",
    "window.title(\"Converter weight\")\n",
    "window.geometry(\"250x150\")\n",
    "# hàm chuyển đổi\n",
    "\n",
    "def convert():\n",
    "    in_entry_value = int(in_entry.get())\n",
    "    gram_value = 1000*in_entry_value\n",
    "    pound_value = 2.2*in_entry_value\n",
    "    ounce_value = 40*in_entry_value\n",
    "    amount_gr_lbl[\"text\"] = f\"{gram_value}\"\n",
    "    amount_p_lbl[\"text\"] = f\"{pound_value}\"\n",
    "    amount_o_lbl[\"text\"] = f\"{ounce_value}\"\n",
    "    in_entry.delete(0, END)\n",
    "    return gram_value\n",
    "# setup các widget\n",
    "# entry\n",
    "in_entry = Entry(window)\n",
    "# button\n",
    "convert_btn = Button(window, text = \"Covert\", command=convert)\n",
    "# các label\n",
    "in_lbl = Label(window, text = \"Enter weight:\")\n",
    "gram_lbl = Label(window, text = \"Gram\")\n",
    "pound_lbl = Label(window, text = \"Pounds\")\n",
    "ounce_lbl = Label(window, text = \"Ounce\")\n",
    "amount_gr_lbl = Label(window)\n",
    "amount_p_lbl = Label(window)\n",
    "amount_o_lbl = Label(window)\n",
    "# dán các widget lên cửa sổ\n",
    "in_lbl.grid(row = 0, column = 0)\n",
    "gram_lbl.grid(row = 1, column = 0)\n",
    "pound_lbl.grid(row = 1, column = 1)\n",
    "ounce_lbl.grid(row = 1, column = 2)\n",
    "in_entry.grid(row=0, column=1)\n",
    "convert_btn.grid(row=0, column=2)\n",
    "amount_gr_lbl.grid(row=2, column=0)\n",
    "amount_p_lbl.grid(row=2, column=1)\n",
    "amount_o_lbl.grid(row=2, column=2)\n",
    "window.mainloop()"
   ]
  }
 ],
 "metadata": {
  "kernelspec": {
   "display_name": "Python 3",
   "language": "python",
   "name": "python3"
  },
  "language_info": {
   "codemirror_mode": {
    "name": "ipython",
    "version": 3
   },
   "file_extension": ".py",
   "mimetype": "text/x-python",
   "name": "python",
   "nbconvert_exporter": "python",
   "pygments_lexer": "ipython3",
   "version": "3.12.2"
  }
 },
 "nbformat": 4,
 "nbformat_minor": 2
}
