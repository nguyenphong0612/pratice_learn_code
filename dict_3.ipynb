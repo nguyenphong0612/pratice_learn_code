{
 "cells": [
  {
   "cell_type": "code",
   "execution_count": 71,
   "metadata": {},
   "outputs": [],
   "source": [
    "list_products = {\"shampoo\": 80000}\n",
    "def in_fo():\n",
    "    print(list_products)\n",
    "    return list_products\n",
    "def add_pro():\n",
    "    product = input(\"Enter new product: \")\n",
    "    if product in list_products:\n",
    "        print(\"product already exist\")\n",
    "    else:\n",
    "        id_pro = int(input(\"Enter id of product: \"))\n",
    "        list_products[product] = id_pro\n",
    "    return list_products\n",
    "def update_pro():\n",
    "    id_pro = int(input(\"Enter id of product to update (integer): \"))\n",
    "    for pro in list_products:\n",
    "        if list_products[pro] == id_pro:\n",
    "            list_products.pop(pro)\n",
    "            update = True\n",
    "            break\n",
    "        else:\n",
    "            update = False\n",
    "    if update == True:\n",
    "        new_pro = input(\"Enter new name product: \")\n",
    "        list_products[new_pro] = id_pro\n",
    "        print(\"Product has been changed\")\n",
    "    else:\n",
    "        print(f\"id {id_pro} is not exist\")\n",
    "    return list_products\n",
    "def del_pro():\n",
    "    pro_del = input(\"Enter product to be delete: \")\n",
    "    if pro_del in list_products:\n",
    "        list_products.pop(pro_del)\n",
    "    else:\n",
    "        print(\"Product not exists\")\n",
    "    return list_products"
   ]
  },
  {
   "cell_type": "code",
   "execution_count": 74,
   "metadata": {},
   "outputs": [
    {
     "name": "stdout",
     "output_type": "stream",
     "text": [
      "please choose option:\n",
      "      1. Add\n",
      "      2. update\n",
      "      3. Delete\n",
      "      4. exit\n",
      "{'apple': 50000, 'milk': 24000, 'lifebouy': 80000}\n"
     ]
    },
    {
     "data": {
      "text/plain": [
       "{'apple': 50000, 'milk': 24000, 'lifebouy': 80000}"
      ]
     },
     "execution_count": 74,
     "metadata": {},
     "output_type": "execute_result"
    }
   ],
   "source": [
    "option = 0\n",
    "print(\"please choose option:\\n\\\n",
    "      1. Add\\n\\\n",
    "      2. update\\n\\\n",
    "      3. Delete\\n\\\n",
    "      4. exit\")\n",
    "while option != 4:\n",
    "    option = int(input(\"your option: \"))\n",
    "    if option == 1:\n",
    "        add_pro()\n",
    "    elif option == 2:\n",
    "        update_pro()\n",
    "    elif option == 3:\n",
    "        del_pro()\n",
    "    elif option == 4:\n",
    "        pass\n",
    "    else:\n",
    "        option = 0\n",
    "in_fo()\n",
    "    "
   ]
  }
 ],
 "metadata": {
  "kernelspec": {
   "display_name": "Python 3",
   "language": "python",
   "name": "python3"
  },
  "language_info": {
   "codemirror_mode": {
    "name": "ipython",
    "version": 3
   },
   "file_extension": ".py",
   "mimetype": "text/x-python",
   "name": "python",
   "nbconvert_exporter": "python",
   "pygments_lexer": "ipython3",
   "version": "3.12.2"
  }
 },
 "nbformat": 4,
 "nbformat_minor": 2
}
