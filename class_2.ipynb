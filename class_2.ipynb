{
 "cells": [
  {
   "cell_type": "code",
   "execution_count": 9,
   "metadata": {},
   "outputs": [],
   "source": [
    "class Student:\n",
    "    def __init__(self, name, id, age, city, university, group):\n",
    "        self.intro = {}\n",
    "        self.intro[\"name\"] = name\n",
    "        self.intro[\"id\"] = id\n",
    "        self.intro[\"age\"] = age\n",
    "        self.intro[\"city\"] = city\n",
    "        self.intro[\"university\"] = university\n",
    "        self.intro[\"group\"] = group\n",
    "    def in_fo(self):\n",
    "        print(self.intro)\n",
    "        "
   ]
  },
  {
   "cell_type": "code",
   "execution_count": 10,
   "metadata": {},
   "outputs": [],
   "source": [
    "class List_Student:\n",
    "    def __init__(self):\n",
    "        self.list = {}\n",
    "             \n",
    "    def in_fo_list(self):\n",
    "        print(self.list)\n",
    "    def add(self, other):\n",
    "        if str(other.intro[\"id\"]) not in self.list:\n",
    "            self.list[f\"{other.intro[\"id\"]}\"] = other.intro\n",
    "        else:\n",
    "            print(f\"{other.intro[\"id\"]} already exists!\")\n",
    "    def search_std(self, other):\n",
    "        if str(other.intro[\"id\"]) in self.list:\n",
    "            print(other.in_fo())\n",
    "        else: \n",
    "            print(\"no result found\")\n",
    "    def del_list(self, other):\n",
    "        if str(other.intro[\"id\"]) in self.list:\n",
    "            self.list.pop(str(other.intro[\"id\"]))\n",
    "        else: \n",
    "            print(\"id does not exist\")\n",
    "\n"
   ]
  },
  {
   "cell_type": "code",
   "execution_count": 11,
   "metadata": {},
   "outputs": [
    {
     "name": "stdout",
     "output_type": "stream",
     "text": [
      "{'name': 'Nguyen Trung Phong', 'id': 1102, 'age': 44, 'city': 'HaNoi', 'university': 'CodeGym', 'group': 'Python fundamental'}\n",
      "{'name': 'Phạm Hữu Nghĩa', 'id': 1203, 'age': 24, 'city': 'NewYork', 'university': 'CodeGym', 'group': 'Python fundamental'}\n",
      "{'name': 'Ngô Văn Đồng', 'id': 1304, 'age': 33, 'city': 'Đà Nẵng', 'university': 'CodeGym', 'group': 'Python fundamental'}\n"
     ]
    }
   ],
   "source": [
    "std_1 = Student(\"Nguyen Trung Phong\", 1102, 44, \"HaNoi\", \"CodeGym\", \"Python fundamental\")\n",
    "std_2 = Student(\"Phạm Hữu Nghĩa\", 1203, 24, \"NewYork\", \"CodeGym\", \"Python fundamental\")\n",
    "std_3 = Student(\"Ngô Văn Đồng\", 1304, 33, \"Đà Nẵng\", \"CodeGym\", \"Python fundamental\")\n",
    "std_1.in_fo()\n",
    "std_2.in_fo()\n",
    "std_3.in_fo()"
   ]
  },
  {
   "cell_type": "code",
   "execution_count": 12,
   "metadata": {},
   "outputs": [
    {
     "name": "stdout",
     "output_type": "stream",
     "text": [
      "{'name': 'Phạm Hữu Nghĩa', 'id': 1203, 'age': 24, 'city': 'NewYork', 'university': 'CodeGym', 'group': 'Python fundamental'}\n",
      "None\n",
      "id does not exist\n",
      "{'1102': {'name': 'Nguyen Trung Phong', 'id': 1102, 'age': 44, 'city': 'HaNoi', 'university': 'CodeGym', 'group': 'Python fundamental'}, '1203': {'name': 'Phạm Hữu Nghĩa', 'id': 1203, 'age': 24, 'city': 'NewYork', 'university': 'CodeGym', 'group': 'Python fundamental'}}\n"
     ]
    }
   ],
   "source": [
    "l_s = List_Student()\n",
    "l_s.add(std_1)\n",
    "l_s.add(std_3)\n",
    "l_s.add(std_2)\n",
    "\n",
    "l_s.del_list(std_3)\n",
    "l_s.search_std(std_2)\n",
    "l_s.del_list(std_3)\n",
    "l_s.in_fo_list()"
   ]
  }
 ],
 "metadata": {
  "kernelspec": {
   "display_name": "Python 3",
   "language": "python",
   "name": "python3"
  },
  "language_info": {
   "codemirror_mode": {
    "name": "ipython",
    "version": 3
   },
   "file_extension": ".py",
   "mimetype": "text/x-python",
   "name": "python",
   "nbconvert_exporter": "python",
   "pygments_lexer": "ipython3",
   "version": "3.12.2"
  }
 },
 "nbformat": 4,
 "nbformat_minor": 2
}
