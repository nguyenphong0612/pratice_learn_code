{
 "cells": [
  {
   "cell_type": "code",
   "execution_count": 1,
   "metadata": {},
   "outputs": [],
   "source": [
    "dict_E_V = {\"snake\":\"rắn\", \"mouse\":\"chuột\", \"cat\": \"mèo\", \"dog\":\"chó\"}\n"
   ]
  },
  {
   "cell_type": "code",
   "execution_count": 2,
   "metadata": {},
   "outputs": [],
   "source": [
    "def compiler_word(dict, new_word):\n",
    "    for word in dict:\n",
    "        if word == new_word:\n",
    "            print(f\"{new_word} is {dict[word]}\")\n",
    "            compl = False\n",
    "            break\n",
    "    else:\n",
    "        print(\"no result were found\")\n",
    "        compl = True\n",
    "    "
   ]
  },
  {
   "cell_type": "code",
   "execution_count": 3,
   "metadata": {},
   "outputs": [
    {
     "name": "stdout",
     "output_type": "stream",
     "text": [
      "no result were found\n",
      "no result were found\n",
      "dog is chó\n"
     ]
    }
   ],
   "source": [
    "w = input(\"input word:\")\n",
    "compiler_word(dict_E_V, w)"
   ]
  }
 ],
 "metadata": {
  "kernelspec": {
   "display_name": "Python 3",
   "language": "python",
   "name": "python3"
  },
  "language_info": {
   "codemirror_mode": {
    "name": "ipython",
    "version": 3
   },
   "file_extension": ".py",
   "mimetype": "text/x-python",
   "name": "python",
   "nbconvert_exporter": "python",
   "pygments_lexer": "ipython3",
   "version": "3.12.2"
  }
 },
 "nbformat": 4,
 "nbformat_minor": 2
}
